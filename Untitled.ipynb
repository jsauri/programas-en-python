{
 "cells": [
  {
   "cell_type": "code",
   "execution_count": 1,
   "id": "6bdd9357-ff30-4b96-a00e-e2914ebc749c",
   "metadata": {},
   "outputs": [
    {
     "name": "stdout",
     "output_type": "stream",
     "text": [
      "Juan Sauri\n",
      "50\n"
     ]
    }
   ],
   "source": [
    "nombre = \"Juan Sauri\"\n",
    "numero1 = 20\n",
    "numero2 = 30\n",
    "print(nombre)\n",
    "print(numero1 + numero2)"
   ]
  },
  {
   "cell_type": "code",
   "execution_count": 2,
   "id": "1609b942-51c9-4b38-bc8a-19c493448f53",
   "metadata": {},
   "outputs": [
    {
     "name": "stdout",
     "output_type": "stream",
     "text": [
      "Juan Sauri\n",
      "50\n",
      "Juan Sauri37\n"
     ]
    }
   ],
   "source": [
    "nombre = \"Juan Sauri\"\n",
    "print(nombre)\n",
    "numero1 = 20\n",
    "numero2 = 30\n",
    "\n",
    "print(numero1 + numero2)\n",
    "\n",
    "# concatenar\n",
    "edad = \"37\"\n",
    "\n",
    "informacion = nombre + edad\n",
    "print(informacion)"
   ]
  },
  {
   "cell_type": "code",
   "execution_count": 3,
   "id": "5b11f205-ab3c-410a-95f4-9854b270e676",
   "metadata": {},
   "outputs": [
    {
     "name": "stdout",
     "output_type": "stream",
     "text": [
      "Juan Sauri37\n"
     ]
    }
   ],
   "source": [
    "print(informacion)\n"
   ]
  },
  {
   "cell_type": "code",
   "execution_count": 4,
   "id": "d989ae65-72fa-4fbf-a905-c02a79e50293",
   "metadata": {},
   "outputs": [
    {
     "name": "stdout",
     "output_type": "stream",
     "text": [
      "Juan Sauri\n",
      "50\n",
      "Juan Sauri 37 años de edad\n"
     ]
    }
   ],
   "source": [
    "nombre = \"Juan Sauri\"\n",
    "print(nombre)\n",
    "numero1 = 20\n",
    "numero2 = 30\n",
    "\n",
    "print(numero1 + numero2)\n",
    "\n",
    "# concatenar\n",
    "edad = \" 37 años de edad\"\n",
    "\n",
    "informacion = nombre + edad\n",
    "print(informacion)"
   ]
  },
  {
   "cell_type": "code",
   "execution_count": null,
   "id": "d3f51ae1-3f58-4f5d-bf5b-0dc8d2d41836",
   "metadata": {},
   "outputs": [],
   "source": []
  }
 ],
 "metadata": {
  "kernelspec": {
   "display_name": "Python 3 (ipykernel)",
   "language": "python",
   "name": "python3"
  },
  "language_info": {
   "codemirror_mode": {
    "name": "ipython",
    "version": 3
   },
   "file_extension": ".py",
   "mimetype": "text/x-python",
   "name": "python",
   "nbconvert_exporter": "python",
   "pygments_lexer": "ipython3",
   "version": "3.12.4"
  }
 },
 "nbformat": 4,
 "nbformat_minor": 5
}
